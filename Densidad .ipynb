{
 "cells": [
  {
   "cell_type": "code",
   "execution_count": 2,
   "metadata": {
    "collapsed": false
   },
   "outputs": [],
   "source": [
    "import numpy as np\n",
    "from scipy.optimize import curve_fit"
   ]
  },
  {
   "cell_type": "code",
   "execution_count": null,
   "metadata": {
    "collapsed": true
   },
   "outputs": [],
   "source": [
    "coordenadas=np.loadtxt(\"coordenadas.dat\", delimiter=',')\n",
    "numero_de_particulas=len((coordenadas))"
   ]
  },
  {
   "cell_type": "code",
   "execution_count": null,
   "metadata": {
    "collapsed": true
   },
   "outputs": [],
   "source": [
    "#costantes\n",
    "G=\n",
    "m=\n",
    "indices=range(0,numero_de_particulas)\n",
    "potenciales=[]"
   ]
  },
  {
   "cell_type": "code",
   "execution_count": null,
   "metadata": {
    "collapsed": true
   },
   "outputs": [],
   "source": [
    "def potencial_gravitacional(r):\n",
    "    return -G*m*m/r\n",
    "def volumen(r):\n",
    "    return 4.0/3.0*np.pi*(r)**3\n",
    "def densidad(r, a, b):\n",
    "    return b/r**a"
   ]
  },
  {
   "cell_type": "code",
   "execution_count": null,
   "metadata": {
    "collapsed": true
   },
   "outputs": [],
   "source": [
    "for i in indices:\n",
    "    suma=0\n",
    "    for j in indices.remove(i):\n",
    "        r=norm(coordenadas[i]-coordenadas[j])\n",
    "        suma=suma+potencial_gravitacional(r)\n",
    "    potenciales.append(suma)\n",
    "potenciales=array(potenciales)\n",
    "centro=potenciales.index(min(potenciales))\n",
    "print\"la particula numero \"\n",
    "print centro\n",
    "print \"tiene el mayor potencial entonces es la que se encuentra mas central a todas las demas particulas\"     "
   ]
  },
  {
   "cell_type": "code",
   "execution_count": null,
   "metadata": {
    "collapsed": true
   },
   "outputs": [],
   "source": [
    "coordenadas=coordenadas-coordenadas[centro]\n",
    "#particula mas lejana\n",
    "normas=np.linalg.norm(coordenadas, axis=1)\n",
    "norma_maxima=potenciales.index(max(normas))\n",
    "dr=5000\n",
    "dr=norma_maxima/dr\n",
    "densidades=[]\n",
    "distancias=[]\n",
    "for i,j in enumerate  (0,dr):\n",
    "    a=len(normas[normas>dr*i & normas<=dr*j])/(volumen(dr*j)-volumen(dr*i))\n",
    "    densidades.append(a)\n",
    "    distancias.append(dr*j)\n",
    "densidades=array(densidades)      \n",
    "popt, pcov = curve_fit(densidad,distancias, densidades)\n",
    "plot(distancias,exponencial(distancias,popt[0],popt[1]), color='red')    \n",
    "    "
   ]
  }
 ],
 "metadata": {
  "kernelspec": {
   "display_name": "Python 2",
   "language": "python",
   "name": "python2"
  },
  "language_info": {
   "codemirror_mode": {
    "name": "ipython",
    "version": 2
   },
   "file_extension": ".py",
   "mimetype": "text/x-python",
   "name": "python",
   "nbconvert_exporter": "python",
   "pygments_lexer": "ipython2",
   "version": "2.7.11"
  }
 },
 "nbformat": 4,
 "nbformat_minor": 0
}
